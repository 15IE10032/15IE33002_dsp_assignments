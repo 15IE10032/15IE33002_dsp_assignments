{
 "cells": [
  {
   "cell_type": "code",
   "execution_count": 143,
   "metadata": {},
   "outputs": [],
   "source": [
    "import numpy as np\n",
    "from __future__ import division\n",
    "import matplotlib.pyplot as plt\n",
    "import sys\n",
    "import cmath\n",
    "import math\n",
    "from scipy.io import wavfile\n",
    "import scipy.fftpack\n",
    "import pywt"
   ]
  },
  {
   "cell_type": "code",
   "execution_count": 142,
   "metadata": {},
   "outputs": [],
   "source": [
    "def  xdcthaar(X,L,N):\n",
    "    for i in range(N-L,N):\n",
    "        X[i]=0\n",
    "    return X    "
   ]
  },
  {
   "cell_type": "code",
   "execution_count": 141,
   "metadata": {},
   "outputs": [],
   "source": [
    "def samples_from_wav():\n",
    "    rate,array=wavfile.read(\"10kHz_44100Hz_16bit_05sec.wav\")\n",
    "    #print(rate)\n",
    "    result=array[0:rate]\n",
    "    return result    "
   ]
  },
  {
   "cell_type": "code",
   "execution_count": 140,
   "metadata": {},
   "outputs": [],
   "source": [
    "def compressor(x,L,file_name):\n",
    "    N=x.shape[0]\n",
    "    b=32\n",
    "    M=N-L\n",
    "    for i in range(1,2,1):\n",
    "        X=generalised_advanced_transform(i,x)\n",
    "        f=open(file_name,'w+')\n",
    "        f.write(\"%d\\n\" %N)\n",
    "        f.write(\"%d\\n\" %M)\n",
    "        for i in range(M):\n",
    "            f.write(\"%f\\n\" %X[i])\n",
    "        f.close()\n",
    "        Xm=xdcthaar(X,L,N)\n",
    "        xm=scipy.fftpack.idct(Xm,norm=\"ortho\")\n",
    "        print(xm)\n",
    "           \n",
    "    "
   ]
  },
  {
   "cell_type": "code",
   "execution_count": 139,
   "metadata": {},
   "outputs": [],
   "source": [
    "def decompressor(file_name):\n",
    "    f=open(file_name,\"r\")\n",
    "    contents=f.readlines()\n",
    "    N=int(contents[0].strip('\\n'))\n",
    "    M=int(contents[1].strip('\\n'))\n",
    "    contents=contents[2:]\n",
    "    array=[]\n",
    "    for i in contents:\n",
    "        array=np.append(array,float(i.strip('\\n')))\n",
    "    for i in range(M,N,1):\n",
    "        array=np.append(array,0)\n",
    "\n",
    "    #print(array.shape)    \n",
    "    xm=scipy.fftpack.idct(array,norm=\"ortho\")\n",
    "    print(xm)"
   ]
  },
  {
   "cell_type": "code",
   "execution_count": 138,
   "metadata": {},
   "outputs": [
    {
     "name": "stdout",
     "output_type": "stream",
     "text": [
      "[ 1.51667362e-03  2.24269955e+04  6.52700758e+03 ...  2.05279933e+04\n",
      " -6.52699596e+03 -2.24280013e+04]\n",
      "[ 1.51683290e-03  2.24269955e+04  6.52700758e+03 ...  2.05279933e+04\n",
      " -6.52699596e+03 -2.24280013e+04]\n"
     ]
    }
   ],
   "source": [
    "#driver program\n",
    "L=200\n",
    "file_name=\"input.txt\"\n",
    "x=samples_from_wav()\n",
    "compressor(x,L,file_name)\n",
    "decompressor(file_name)"
   ]
  }
 ],
 "metadata": {
  "kernelspec": {
   "display_name": "Python 3",
   "language": "python",
   "name": "python3"
  },
  "language_info": {
   "codemirror_mode": {
    "name": "ipython",
    "version": 3
   },
   "file_extension": ".py",
   "mimetype": "text/x-python",
   "name": "python",
   "nbconvert_exporter": "python",
   "pygments_lexer": "ipython3",
   "version": "3.6.5"
  }
 },
 "nbformat": 4,
 "nbformat_minor": 2
}
